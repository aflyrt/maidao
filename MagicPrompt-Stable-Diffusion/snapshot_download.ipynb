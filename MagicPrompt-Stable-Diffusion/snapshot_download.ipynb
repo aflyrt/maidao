{
 "cells": [
  {
   "cell_type": "code",
   "execution_count": null,
   "metadata": {},
   "outputs": [],
   "source": [
    "import os\n",
    "os.environ['HF_ENDPOINT'] = 'https://hf-mirror.com'\n",
    "\n",
    "from huggingface_hub import snapshot_download\n",
    "snapshot_download(reop_id = 'Gustavosta/MagicPrompt-Stable-Diffusion', local_dir = \"./MagicPrompt-Stable-Diffusion\")"
   ]
  }
 ],
 "metadata": {
  "language_info": {
   "name": "python"
  }
 },
 "nbformat": 4,
 "nbformat_minor": 2
}
